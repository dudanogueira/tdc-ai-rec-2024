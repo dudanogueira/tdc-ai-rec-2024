{
 "cells": [
  {
   "cell_type": "code",
   "execution_count": 5,
   "metadata": {},
   "outputs": [
    {
     "name": "stdout",
     "output_type": "stream",
     "text": [
      "Connected to Weaviate True\n"
     ]
    }
   ],
   "source": [
    "import weaviate\n",
    "import os\n",
    "from weaviate import classes as wvc\n",
    "\n",
    "client = weaviate.connect_to_local(\n",
    "    headers={\n",
    "        \"X-Openai-Api-Key\": os.environ.get(\"OPENAI_APIKEY\")\n",
    "    }\n",
    ")\n",
    "print(\"Connected to Weaviate\", client.is_ready())"
   ]
  },
  {
   "cell_type": "code",
   "execution_count": 76,
   "metadata": {},
   "outputs": [
    {
     "data": {
      "text/plain": [
       "<weaviate.collections.collection.sync.Collection at 0x114aa2330>"
      ]
     },
     "execution_count": 76,
     "metadata": {},
     "output_type": "execute_result"
    }
   ],
   "source": [
    "# Vamos apagar a coleção primeiro, caso exista\n",
    "client.collections.delete(\"Produtos\")\n",
    "# e criar uma nova coleção\n",
    "client.collections.create(\n",
    "    name=\"Produtos\",\n",
    "    vectorizer_config=wvc.config.Configure.Vectorizer.text2vec_openai(\n",
    "        model=\"text-embedding-3-large\"\n",
    "    ),\n",
    "    # por padrão é gpt-3.5-turbo, mas pode mudar pra gpt-4, por exemplo\n",
    "    generative_config=wvc.config.Configure.Generative.openai(model=\"gpt-3.5-turbo\")\n",
    ")"
   ]
  },
  {
   "cell_type": "code",
   "execution_count": null,
   "metadata": {},
   "outputs": [],
   "source": [
    "# agora vamos criar uma função pra transformar aquivos\n",
    "import base64\n",
    "\n",
    "def toBase64(path):\n",
    "    with open(path, 'rb') as file:\n",
    "        return base64.b64encode(file.read()).decode('utf-8')"
   ]
  },
  {
   "cell_type": "code",
   "execution_count": 77,
   "metadata": {},
   "outputs": [],
   "source": [
    "# vamos importar nossos produtos\n",
    "produtos = [\n",
    "    {\"id\":1, \"title\": \"Cuscuz com Camarão\", \"description\": \"Delicioso cuscuz feito com camarão, ervilhas e palmito\"},\n",
    "    {\"id\":2, \"title\": \"Cuscuz com Carne de Sol\", \"description\": \"A tradicional carne de sol, com o tradicional cuscuz feito carinho e muito tempero.\"},\n",
    "    {\"id\":3, \"title\": \"Cuscuz Fit\", \"description\": \"Excelente pro pós treino. Milho, cenoura, cebola, brócolis e muita saúde! sem carne.\"},\n",
    "    {\"id\":4, \"title\": \"Bolo de Rolo\", \"description\": \"O famoso bolo de rolo de goiabada cascão, doce como a vida, com mais de 10 camadas! Coberto com açúcar orgânico. Acompanha suco de manga rosa.\"},\n",
    "    {\"id\":5, \"title\": \"Buchada\", \"description\": \"Um dos pratos mais famosos da culinária pernambucana, especialmente na região do sertão. É feito com bucho de bode ou carneiro, tripas, picadinho de sangue coagulado e fígado, além de cebola, alho, limão, hortelã e temperos variados\"},\n",
    "    {\"id\":6, \"title\": \"Cuscuz com Lagosta\", \"description\": \"Duas coisas gostosas juntas. Lagosta e Cuscuz! É de comer ajoelhado!\"},\n",
    "    {\"id\":7, \"title\": \"Cartola\", \"description\": \"A cartola é um doce/sobremesa brasileiro, típico de Pernambuco. É uma das mais tradicionais sobremesas pernambucanas.bananas fritas em manteiga ou óleo, queijo de coalho ou de manteiga derretidos colocados em cima das bananas fritas, e cobertura, que pode ser a mais tradicional de canela e açúcar ou calda de chocolate\"},\n",
    "    \n",
    "]"
   ]
  },
  {
   "cell_type": "code",
   "execution_count": 78,
   "metadata": {},
   "outputs": [
    {
     "name": "stdout",
     "output_type": "stream",
     "text": [
      "[]\n",
      "BatchObjectReturn(_all_responses=[UUID('b04965e6-a9bb-591f-8f8a-1adcb2c8dc39'), UUID('4b166dbe-d99d-5091-abdd-95b83330ed3a'), UUID('98123fde-012f-5ff3-8b50-881449dac91a'), UUID('6ed955c6-506a-5343-9be4-2c0afae02eef'), UUID('c8691da2-158a-5ed6-8537-0e6f140801f2'), UUID('a6c4fc8f-6950-51de-a9ae-2c519c465071'), UUID('a9f96b98-dd44-5216-ab0d-dbfc6b262edf')], elapsed_seconds=0.0, errors={}, uuids={0: UUID('b04965e6-a9bb-591f-8f8a-1adcb2c8dc39'), 1: UUID('4b166dbe-d99d-5091-abdd-95b83330ed3a'), 2: UUID('98123fde-012f-5ff3-8b50-881449dac91a'), 3: UUID('6ed955c6-506a-5343-9be4-2c0afae02eef'), 4: UUID('c8691da2-158a-5ed6-8537-0e6f140801f2'), 5: UUID('a6c4fc8f-6950-51de-a9ae-2c519c465071'), 6: UUID('a9f96b98-dd44-5216-ab0d-dbfc6b262edf')}, has_errors=False)\n"
     ]
    }
   ],
   "source": [
    "# vamos usar UUID deterministicos, \"amarrando\" o id do produto com um id dentro do Weaviate\n",
    "\n",
    "from weaviate.util import generate_uuid5\n",
    "\n",
    "with client.batch.dynamic() as batch:\n",
    "    for produto in produtos:\n",
    "        produto_id = produto.get(\"id\")\n",
    "        uuid = generate_uuid5(produto_id)\n",
    "        batch.add_object(\n",
    "            uuid=uuid,\n",
    "            collection=\"Produtos\",\n",
    "            properties={\n",
    "                \"title\": produto.get(\"title\"),\n",
    "                \"description\": produto.get(\"description\"),\n",
    "                #\"image\": toBase64(f\"./produtos/produto{produto_id}.jpg\")\n",
    "            }\n",
    "        )\n",
    "# check if we had errors\n",
    "print(client.batch.failed_objects)\n",
    "print(client.batch.results.objs)"
   ]
  },
  {
   "cell_type": "code",
   "execution_count": 79,
   "metadata": {},
   "outputs": [
    {
     "data": {
      "text/plain": [
       "AggregateReturn(properties={}, total_count=7)"
      ]
     },
     "execution_count": 79,
     "metadata": {},
     "output_type": "execute_result"
    }
   ],
   "source": [
    "collection = client.collections.get(\"Produtos\")\n",
    "client.collections.get(\"Produtos\").aggregate.over_all()"
   ]
  },
  {
   "cell_type": "code",
   "execution_count": null,
   "metadata": {},
   "outputs": [
    {
     "name": "stdout",
     "output_type": "stream",
     "text": [
      "##########\n",
      "Cuscuz com Lagosta\n",
      "0.49463915824890137\n",
      "##########\n",
      "Cuscuz com Camarão\n",
      "0.5260534286499023\n"
     ]
    }
   ],
   "source": [
    "query = collection.query.near_text(\n",
    "    \"eu quero comer algo com frutos do mar\", \n",
    "    return_metadata=wvc.query.MetadataQuery(distance=True),\n",
    "    auto_limit=1\n",
    ")\n",
    "for obj in query.objects:\n",
    "    print(\"#\"*10)\n",
    "    print(obj.properties.get(\"title\"))\n",
    "    print(obj.metadata.distance)"
   ]
  },
  {
   "cell_type": "code",
   "execution_count": null,
   "metadata": {},
   "outputs": [
    {
     "name": "stdout",
     "output_type": "stream",
     "text": [
      "Oi meu bem, na Loja de Cuscuz temos dois pratos maravilhosos para te sugerir! Primeiramente, temos o \"Cuscuz com Lagosta\", que é uma combinação divina de lagosta com cuscuz, de dar água na boca! Para harmonizar, sugiro um suco de Cajá, que vai combinar perfeitamente com a leveza e sabor desse prato.\n",
      "\n",
      "E também temos o \"Cuscuz com Camarão\", um delicioso cuscuz feito com camarão, ervilhas e palmito, uma explosão de sabores! Para acompanhar, que tal uma Capirinha de Siriguela? A acidez da siriguela vai realçar ainda mais o sabor do camarão. \n",
      "\n",
      "Espero que goste das sugestões, meu bem! Estamos aqui para te servir com alegria e sabor nordestino!\n"
     ]
    }
   ],
   "source": [
    "# agora, vamos gerar uma resposta com os dois pratos, e ainda sugerir uma bebida.\n",
    "# veja que agora ao invés de collection.query, usaremos collection.generate\n",
    "\n",
    "# tente agora algumas perguntas\n",
    "query = \"Eu quero comer algo com frutos do mar!\"\n",
    "#query = \"Eu quero uma sobremesa\"\n",
    "\n",
    "query = collection.generate.near_text(\n",
    "    # dica ninja: use query em modo minúsculo. De algum modo isso ajuda (não sei como)\n",
    "    query=query.lower(), \n",
    "    return_metadata=wvc.query.MetadataQuery(distance=True),\n",
    "    # ao adicionar auto_limit=1, nós escolhemos somente o primeiro\n",
    "    # grupo semântico. A partir do momento que o próximo resultado tem um salto\n",
    "    # grande na disância ou no score, ele passa a ser grupo 2, 3 e assim adiante\n",
    "    auto_limit=1,\n",
    "    grouped_task='''Você atende como garçonete na Loja de Cuscuz. Responda somente usando o contexto fornecido. \n",
    "    sugira os pratos encontrados. Comente cada um dos pratos, falando seu nome nome e descrição, \n",
    "    e para cada um sugira também uma bebida que harmonize com o prato ou atenda o pedido.\n",
    "    Use expressões nordestinas, e seja nordestina: alegre, simpática e criativa.\n",
    "    As opções de bebidas do dia a serem sugeridas:\n",
    "    - Suco de Umbu\n",
    "    - Suco de Cajá\n",
    "    - suco de Manga Rosa\n",
    "    - Capirinha de Carne de Cajú\n",
    "    - Capirinha de Siriguela\n",
    "    - Vinho Branco (alcólico)\n",
    "    - Vinho Tinto (alcólico)\n",
    "    - Cerveja IPA (alcólico)\n",
    "    - Cerveja Pilsen (alcólico)\n",
    "    - Cachaça (alcólico)\n",
    "    '''\n",
    ")\n",
    "print(query.generated)"
   ]
  },
  {
   "cell_type": "code",
   "execution_count": 84,
   "metadata": {},
   "outputs": [
    {
     "name": "stdout",
     "output_type": "stream",
     "text": [
      "##########\n",
      "Bolo de Rolo\n",
      "MetadataReturn(creation_time=None, last_update_time=None, distance=0.5512862801551819, certainty=None, score=None, explain_score=None, is_consistent=None, rerank_score=None)\n",
      "##########\n",
      "Cartola\n",
      "MetadataReturn(creation_time=None, last_update_time=None, distance=0.5748428106307983, certainty=None, score=None, explain_score=None, is_consistent=None, rerank_score=None)\n"
     ]
    }
   ],
   "source": [
    "query = collection.query.near_text(\n",
    "    \"eu quero uma sobremesa\", return_metadata=wvc.query.MetadataQuery(distance=True),\n",
    "    auto_limit=1\n",
    ")\n",
    "for obj in query.objects:\n",
    "    print(\"#\"*10)\n",
    "    print(obj.properties.get(\"title\"))\n",
    "    print(obj.metadata)"
   ]
  },
  {
   "cell_type": "code",
   "execution_count": 104,
   "metadata": {},
   "outputs": [
    {
     "name": "stdout",
     "output_type": "stream",
     "text": [
      "##########\n",
      "Cuscuz Fit\n",
      "MetadataReturn(creation_time=None, last_update_time=None, distance=0.5523396730422974, certainty=None, score=None, explain_score=None, is_consistent=None, rerank_score=None)\n"
     ]
    }
   ],
   "source": [
    "query = collection.query.near_text(\n",
    "    \"Estou de Dieta, e quero algo com poucas calorias\", return_metadata=wvc.query.MetadataQuery(distance=True),\n",
    "    auto_limit=1\n",
    ")\n",
    "for obj in query.objects:\n",
    "    print(\"#\"*10)\n",
    "    print(obj.properties.get(\"title\"))\n",
    "    print(obj.metadata)"
   ]
  }
 ],
 "metadata": {
  "kernelspec": {
   "display_name": ".venv",
   "language": "python",
   "name": "python3"
  },
  "language_info": {
   "codemirror_mode": {
    "name": "ipython",
    "version": 3
   },
   "file_extension": ".py",
   "mimetype": "text/x-python",
   "name": "python",
   "nbconvert_exporter": "python",
   "pygments_lexer": "ipython3",
   "version": "3.12.5"
  }
 },
 "nbformat": 4,
 "nbformat_minor": 2
}
