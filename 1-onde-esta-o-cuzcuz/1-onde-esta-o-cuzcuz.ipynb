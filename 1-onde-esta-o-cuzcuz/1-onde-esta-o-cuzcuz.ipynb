{
 "cells": [
  {
   "cell_type": "code",
   "execution_count": null,
   "metadata": {},
   "outputs": [],
   "source": [
    "!pip install weaviate-client -U\n",
    "!pip install PILLOW"
   ]
  },
  {
   "cell_type": "code",
   "execution_count": 1,
   "metadata": {},
   "outputs": [],
   "source": [
    "from PIL import Image, ImageDraw  \n",
    "import base64, os, weaviate\n",
    "from io import BytesIO\n",
    "from pathlib import Path"
   ]
  },
  {
   "cell_type": "code",
   "execution_count": 2,
   "metadata": {},
   "outputs": [
    {
     "name": "stdout",
     "output_type": "stream",
     "text": [
      "Connected to Weaviate True\n"
     ]
    }
   ],
   "source": [
    "client = weaviate.connect_to_local()\n",
    "print(\"Connected to Weaviate\", client.is_ready())"
   ]
  },
  {
   "cell_type": "code",
   "execution_count": 3,
   "metadata": {},
   "outputs": [],
   "source": [
    "def base64_to_image(image_data_base64):\n",
    "    image_data = base64.b64decode(image_data_base64)\n",
    "    image = Image.open(BytesIO(image_data))\n",
    "    return image\n",
    "\n",
    "\n",
    "def file_to_base64(path):\n",
    "    with open(path, 'rb') as file:\n",
    "        return base64.b64encode(file.read()).decode('utf-8')\n",
    "\n",
    "def image_to_base64(image):\n",
    "    buffered = BytesIO()\n",
    "    image.save(buffered, format=\"PNG\")\n",
    "    return base64.b64encode(buffered.getvalue()).decode('utf-8')\n",
    "\n",
    "\n",
    "\n",
    "def create_schema(collectionName):\n",
    "    import weaviate.classes as wvc\n",
    "    from weaviate.classes.config import Property, DataType\n",
    "\n",
    "    if(client.collections.exists(collectionName)):\n",
    "        client.collections.delete(collectionName)\n",
    "\n",
    "    client.collections.create(\n",
    "        name=collectionName,\n",
    "        properties=[\n",
    "            Property(name=\"image\", data_type=DataType.BLOB),\n",
    "            Property(name=\"x_coordinate\", data_type=DataType.INT),\n",
    "            Property(name=\"y_coordinate\", data_type=DataType.INT)\n",
    "        ],\n",
    "        vectorizer_config=wvc.config.Configure.Vectorizer.multi2vec_clip(\n",
    "            image_fields=[\"image\"] \n",
    "        )\n",
    "    )\n",
    "    \n",
    "    print(\"Collection created\")\n",
    "\n",
    "\n",
    "def split_image_locally(input_image_path, split_width, split_height, output_folder):\n",
    "    image = Image.open(input_image_path)\n",
    "    image_width, image_height = image.size\n",
    "\n",
    "    if not os.path.exists(output_folder):\n",
    "        os.makedirs(output_folder)\n",
    "\n",
    "    for y in range(0, image_height, split_height):\n",
    "        for x in range(0, image_width, split_width):\n",
    "            bbox = (x, y, x + split_width, y + split_height)\n",
    "            split_image = image.crop(bbox)\n",
    "            filename = f\"{y // split_height + 1}_{x // split_width + 1}_chunk.png\"\n",
    "            split_image.save(os.path.join(output_folder, filename))\n",
    "\n",
    "def upload_to_weaviate(input_image_folder,collectionName):\n",
    "    collection = client.collections.get(collectionName)\n",
    "    filelist = Path(input_image_folder).glob('*.png')\n",
    "    filelist = sorted([x.name for x in filelist])\n",
    "    #loop through all images in the input_image_folder and upload them to weaviate\n",
    "    for filename in filelist:\n",
    "        if filename.endswith(\".png\"):\n",
    "            image = Image.open(os.path.join(input_image_folder, filename))\n",
    "            image_data = image_to_base64(image)\n",
    "            x, y = map(int, filename.split('_')[:2])\n",
    "            obj = {\"image\": image_data, \"x_coordinate\": x, \"y_coordinate\": y}\n",
    "            collection.data.insert(obj)\n",
    "            print(f'Added coordinates x:{x} y:{y} to Weaviate')\n",
    "            #note - not using batching here so we know when it completes each record\n",
    "\n",
    "def find_cuscuz(image,split_width,split_height,collectionName):\n",
    "    print(\"preparing waldo image to search for\")\n",
    "    collection = client.collections.get(collectionName)\n",
    "    resized_waldo = 'onde_esta_o_cuscuz_redimensionado.jpeg'\n",
    "    waldo_image = Image.open(image)\n",
    "    #shrink and scale the image down the defined block size\n",
    "    waldo_image = waldo_image.resize((split_width, split_height))\n",
    "    print(\"image resized\")\n",
    "    #temporarily save the image to a file\n",
    "    waldo_image.save(resized_waldo)\n",
    "    searchableWaldo = image_to_base64(waldo_image)\n",
    "    #print(searchableWaldo)\n",
    "    print(\"image converted to base64\")\n",
    "\n",
    "    #perform a near image search to find the closest match to the waldo image\n",
    "    response = collection.query.near_image(\n",
    "        near_image=searchableWaldo,\n",
    "        return_properties=['x_coordinate','y_coordinate'],\n",
    "        limit=1\n",
    "    )\n",
    "    \n",
    "    coordinates = []\n",
    "    for obj in response.objects:\n",
    "        print(obj.properties)\n",
    "        coordinates.append((obj.properties['x_coordinate'], obj.properties['y_coordinate']))\n",
    "\n",
    "    \n",
    "    print(coordinates)\n",
    "    return coordinates\n",
    "\n",
    "def reassemble_and_highlight(original_image_path, split_width, split_height, highlight_rows_columns, output_folder):\n",
    "    original_image = Image.open(original_image_path)\n",
    "    total_width, total_height = original_image.size\n",
    "    \n",
    "    print(total_width, total_height)\n",
    "\n",
    "    new_image = Image.new('RGB', (total_width, total_height))\n",
    "\n",
    "    # Loop over the folder with the split images and reassemble the original image\n",
    "    for filename in os.listdir(output_folder):\n",
    "        if filename.endswith(\"_chunk.png\"):  # Ensuring only the intended images are processed\n",
    "            # Extract row and column numbers from the filename\n",
    "            part_row, part_col = map(int, filename.split('_')[:2])\n",
    "            # Calculate the position where this part should be pasted in the new image\n",
    "            position = ((part_col - 1) * split_width, (part_row - 1) * split_height)\n",
    "            # Open the image tile and paste it into the new image\n",
    "            image_part = Image.open(os.path.join(output_folder, filename))\n",
    "            new_image.paste(image_part, position)\n",
    "\n",
    "            # Highlight the tile if it is part of the highlight list\n",
    "            if (part_row, part_col) in highlight_rows_columns:\n",
    "                draw = ImageDraw.Draw(new_image)\n",
    "                outline_width = 8  # highlight thickness\n",
    "                draw.rectangle(\n",
    "                    [position[0], position[1], position[0] + split_width, position[1] + split_height],\n",
    "                    outline=\"red\", width=outline_width\n",
    "                )\n",
    "\n",
    "    return new_image"
   ]
  },
  {
   "cell_type": "code",
   "execution_count": 5,
   "metadata": {},
   "outputs": [],
   "source": [
    "input_image_path = 'onde_esta_o_cuscuz.jpeg'  # Change this to the path of your input image\n",
    "collectionName='Cuscuz' #name of the collection to create in weaviate\n",
    "split_width = 256  # Width of each tile image\n",
    "split_height = 256  # Height of each tile image"
   ]
  },
  {
   "cell_type": "code",
   "execution_count": 13,
   "metadata": {},
   "outputs": [
    {
     "name": "stdout",
     "output_type": "stream",
     "text": [
      "Collection created\n"
     ]
    }
   ],
   "source": [
    "create_schema(collectionName)  "
   ]
  },
  {
   "cell_type": "code",
   "execution_count": 14,
   "metadata": {},
   "outputs": [
    {
     "name": "stdout",
     "output_type": "stream",
     "text": [
      "Image is now split into local directory\n"
     ]
    }
   ],
   "source": [
    "split_image_locally(input_image_path, split_width, split_height, 'images/output')\n",
    "print(\"Image is now split into local directory\")"
   ]
  },
  {
   "cell_type": "code",
   "execution_count": 15,
   "metadata": {},
   "outputs": [
    {
     "name": "stdout",
     "output_type": "stream",
     "text": [
      "Added coordinates x:1 y:1 to Weaviate\n",
      "Added coordinates x:1 y:2 to Weaviate\n",
      "Added coordinates x:1 y:3 to Weaviate\n",
      "Added coordinates x:1 y:4 to Weaviate\n",
      "Added coordinates x:1 y:5 to Weaviate\n",
      "Added coordinates x:1 y:6 to Weaviate\n",
      "Added coordinates x:1 y:7 to Weaviate\n",
      "Added coordinates x:1 y:8 to Weaviate\n",
      "Added coordinates x:2 y:1 to Weaviate\n",
      "Added coordinates x:2 y:2 to Weaviate\n",
      "Added coordinates x:2 y:3 to Weaviate\n",
      "Added coordinates x:2 y:4 to Weaviate\n",
      "Added coordinates x:2 y:5 to Weaviate\n",
      "Added coordinates x:2 y:6 to Weaviate\n",
      "Added coordinates x:2 y:7 to Weaviate\n",
      "Added coordinates x:2 y:8 to Weaviate\n",
      "Added coordinates x:3 y:1 to Weaviate\n",
      "Added coordinates x:3 y:2 to Weaviate\n",
      "Added coordinates x:3 y:3 to Weaviate\n",
      "Added coordinates x:3 y:4 to Weaviate\n",
      "Added coordinates x:3 y:5 to Weaviate\n",
      "Added coordinates x:3 y:6 to Weaviate\n",
      "Added coordinates x:3 y:7 to Weaviate\n",
      "Added coordinates x:3 y:8 to Weaviate\n",
      "Added coordinates x:4 y:1 to Weaviate\n",
      "Added coordinates x:4 y:2 to Weaviate\n",
      "Added coordinates x:4 y:3 to Weaviate\n",
      "Added coordinates x:4 y:4 to Weaviate\n",
      "Added coordinates x:4 y:5 to Weaviate\n",
      "Added coordinates x:4 y:6 to Weaviate\n",
      "Added coordinates x:4 y:7 to Weaviate\n",
      "Added coordinates x:4 y:8 to Weaviate\n",
      "Added coordinates x:5 y:1 to Weaviate\n",
      "Added coordinates x:5 y:2 to Weaviate\n",
      "Added coordinates x:5 y:3 to Weaviate\n",
      "Added coordinates x:5 y:4 to Weaviate\n",
      "Added coordinates x:5 y:5 to Weaviate\n",
      "Added coordinates x:5 y:6 to Weaviate\n",
      "Added coordinates x:5 y:7 to Weaviate\n",
      "Added coordinates x:5 y:8 to Weaviate\n",
      "Added coordinates x:6 y:1 to Weaviate\n",
      "Added coordinates x:6 y:2 to Weaviate\n",
      "Added coordinates x:6 y:3 to Weaviate\n",
      "Added coordinates x:6 y:4 to Weaviate\n",
      "Added coordinates x:6 y:5 to Weaviate\n",
      "Added coordinates x:6 y:6 to Weaviate\n",
      "Added coordinates x:6 y:7 to Weaviate\n",
      "Added coordinates x:6 y:8 to Weaviate\n",
      "Added coordinates x:7 y:1 to Weaviate\n",
      "Added coordinates x:7 y:2 to Weaviate\n",
      "Added coordinates x:7 y:3 to Weaviate\n",
      "Added coordinates x:7 y:4 to Weaviate\n",
      "Added coordinates x:7 y:5 to Weaviate\n",
      "Added coordinates x:7 y:6 to Weaviate\n",
      "Added coordinates x:7 y:7 to Weaviate\n",
      "Added coordinates x:7 y:8 to Weaviate\n",
      "Added coordinates x:8 y:1 to Weaviate\n",
      "Added coordinates x:8 y:2 to Weaviate\n",
      "Added coordinates x:8 y:3 to Weaviate\n",
      "Added coordinates x:8 y:4 to Weaviate\n",
      "Added coordinates x:8 y:5 to Weaviate\n",
      "Added coordinates x:8 y:6 to Weaviate\n",
      "Added coordinates x:8 y:7 to Weaviate\n",
      "Added coordinates x:8 y:8 to Weaviate\n",
      "Images are now uploaded to Weaviate\n"
     ]
    }
   ],
   "source": [
    "upload_to_weaviate('images/output',collectionName)\n",
    "print(\"Images are now uploaded to Weaviate\")"
   ]
  },
  {
   "cell_type": "code",
   "execution_count": 6,
   "metadata": {},
   "outputs": [
    {
     "name": "stdout",
     "output_type": "stream",
     "text": [
      "preparing waldo image to search for\n",
      "image resized\n",
      "image converted to base64\n",
      "{'y_coordinate': 8, 'x_coordinate': 3}\n",
      "[(3, 8)]\n",
      "[(3, 8)]\n",
      "achamos o cuscuz!!\n",
      "2048 2048\n"
     ]
    },
    {
     "name": "stderr",
     "output_type": "stream",
     "text": [
      "/var/folders/4j/js2lp8b17zs2cvk9v9pl26cc0000gn/T/ipykernel_3946/585932679.py:12: ResourceWarning: unclosed file <_io.BufferedReader name='/Users/dudanogueira/dev/weaviate/tdc-ai-rec-2024/1-onde-esta-o-cuzcuz/onde_esta_o_cuscuz.jpeg'>\n",
      "  reassembled_image = reassemble_and_highlight(input_image_path, split_width, split_height, highlighted_parts, 'images/output')\n",
      "ResourceWarning: Enable tracemalloc to get the object allocation traceback\n",
      "/opt/homebrew/Cellar/python@3.12/3.12.5/Frameworks/Python.framework/Versions/3.12/lib/python3.12/subprocess.py:1127: ResourceWarning: subprocess 4397 is still running\n",
      "  _warn(\"subprocess %s is still running\" % self.pid,\n",
      "ResourceWarning: Enable tracemalloc to get the object allocation traceback\n"
     ]
    }
   ],
   "source": [
    "input_image_path = 'onde_esta_o_cuscuz.jpeg'\n",
    "query_image = 'alvo2.png'\n",
    "\n",
    "highlighted_parts = find_cuscuz(query_image,split_width,split_height,collectionName)\n",
    "print(highlighted_parts)\n",
    "\n",
    "\n",
    "if highlighted_parts == []:\n",
    "    print(\"Não achamos o cãozinho Cuscuz!\")\n",
    "else:\n",
    "   print(\"achamos o cuscuz!!\")\n",
    "   reassembled_image = reassemble_and_highlight(input_image_path, split_width, split_height, highlighted_parts, 'images/output')\n",
    "   reassembled_image.show()  # This will display the reassembled image with highlighted parts"
   ]
  },
  {
   "cell_type": "code",
   "execution_count": null,
   "metadata": {},
   "outputs": [
    {
     "name": "stdout",
     "output_type": "stream",
     "text": [
      "Image saved as onde_esta_o_cuscuz_redgrid.jpeg\n"
     ]
    }
   ],
   "source": [
    "# gerando a imagem com a indicação de grid.\n",
    "from PIL import Image, ImageDraw\n",
    "import os\n",
    "\n",
    "# Step 1: Open an existing 2048x2048 image\n",
    "input_path = \"onde_esta_o_cuscuz.jpeg\"  # Replace with the path to your image file\n",
    "image = Image.open(input_path)\n",
    "image_size = 2048\n",
    "grid_size = 256\n",
    "\n",
    "# Step 2: Draw the red grid\n",
    "draw = ImageDraw.Draw(image)\n",
    "for x in range(0, image_size, grid_size):\n",
    "    # Vertical line\n",
    "    draw.line((x, 0, x, image_size), fill=\"red\", width=3)\n",
    "for y in range(0, image_size, grid_size):\n",
    "    # Horizontal line\n",
    "    draw.line((0, y, image_size, y), fill=\"red\", width=3)\n",
    "\n",
    "# Step 3: Save the image with \"_redgrid\" added to the filename\n",
    "# Split the file name and add the suffix\n",
    "file_root, file_ext = os.path.splitext(input_path)\n",
    "output_path = f\"{file_root}_redgrid{file_ext}\"\n",
    "image.save(output_path)\n",
    "\n",
    "print(f\"Image saved as {output_path}\")"
   ]
  }
 ],
 "metadata": {
  "kernelspec": {
   "display_name": ".venv",
   "language": "python",
   "name": "python3"
  },
  "language_info": {
   "codemirror_mode": {
    "name": "ipython",
    "version": 3
   },
   "file_extension": ".py",
   "mimetype": "text/x-python",
   "name": "python",
   "nbconvert_exporter": "python",
   "pygments_lexer": "ipython3",
   "version": "3.12.5"
  }
 },
 "nbformat": 4,
 "nbformat_minor": 2
}
